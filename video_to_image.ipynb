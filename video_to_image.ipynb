{
 "cells": [
  {
   "cell_type": "code",
   "execution_count": 19,
   "id": "bb6caa30",
   "metadata": {},
   "outputs": [
    {
     "name": "stdout",
     "output_type": "stream",
     "text": [
      "Defaulting to user installation because normal site-packages is not writeable\n",
      "Requirement already satisfied: opencv-python in c:\\users\\sheik\\appdata\\roaming\\python\\python311\\site-packages (4.9.0.80)\n",
      "Requirement already satisfied: numpy>=1.21.2 in c:\\programdata\\anaconda3\\lib\\site-packages (from opencv-python) (1.24.3)\n"
     ]
    }
   ],
   "source": [
    "!pip install opencv-python"
   ]
  },
  {
   "cell_type": "code",
   "execution_count": 1,
   "id": "419d7560",
   "metadata": {},
   "outputs": [],
   "source": [
    "import cv2"
   ]
  },
  {
   "cell_type": "code",
   "execution_count": 46,
   "id": "7a7b697a",
   "metadata": {},
   "outputs": [],
   "source": [
    "vidcap = cv2.VideoCapture(\"C:/Users/sheik/OneDrive/Desktop/Projects/pose_detection/frames_output/videos/12.mp4\")\n",
    "fps = vidcap.get(cv2.CAP_PROP_FPS)"
   ]
  },
  {
   "cell_type": "code",
   "execution_count": 47,
   "id": "a6309229",
   "metadata": {},
   "outputs": [],
   "source": [
    "desired_fps = 3  \n",
    "frame_interval = int(fps / desired_fps)"
   ]
  },
  {
   "cell_type": "code",
   "execution_count": 48,
   "id": "7e7e79c2",
   "metadata": {},
   "outputs": [],
   "source": [
    "success, image = vidcap.read()\n",
    "count = 0\n",
    "frame_count = 0"
   ]
  },
  {
   "cell_type": "code",
   "execution_count": 49,
   "id": "ead312e4",
   "metadata": {},
   "outputs": [
    {
     "name": "stdout",
     "output_type": "stream",
     "text": [
      "Frames extracted successfully.\n"
     ]
    }
   ],
   "source": [
    "while success:\n",
    "    if frame_count % frame_interval == 0:\n",
    "        cv2.imwrite(\"C:/Users/sheik/OneDrive/Desktop/Projects/pose_detection/frames_output/frames/frames17/%d.png\" % count, image)\n",
    "        count += 1\n",
    "    \n",
    "    frame_count += 1\n",
    "    success, image = vidcap.read()\n",
    "print(\"Frames extracted successfully.\")\n",
    "\n",
    "vidcap.release()\n",
    "cv2.destroyAllWindows()"
   ]
  },
  {
   "cell_type": "code",
   "execution_count": null,
   "id": "66432b43",
   "metadata": {},
   "outputs": [],
   "source": []
  }
 ],
 "metadata": {
  "kernelspec": {
   "display_name": "Python 3 (ipykernel)",
   "language": "python",
   "name": "python3"
  },
  "language_info": {
   "codemirror_mode": {
    "name": "ipython",
    "version": 3
   },
   "file_extension": ".py",
   "mimetype": "text/x-python",
   "name": "python",
   "nbconvert_exporter": "python",
   "pygments_lexer": "ipython3",
   "version": "3.11.5"
  }
 },
 "nbformat": 4,
 "nbformat_minor": 5
}
